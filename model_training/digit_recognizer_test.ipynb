{
 "cells": [
  {
   "cell_type": "code",
   "execution_count": 4,
   "metadata": {},
   "outputs": [],
   "source": [
    "from tensorflow import keras\n",
    "import os\n",
    "import numpy as np\n",
    "import cv2"
   ]
  },
  {
   "cell_type": "code",
   "execution_count": 7,
   "metadata": {},
   "outputs": [
    {
     "name": "stdout",
     "output_type": "stream",
     "text": [
      "60000\n",
      "68299\n",
      "Epoch 1/10\n",
      "2135/2135 [==============================] - 18s 8ms/step - loss: 0.5024 - accuracy: 0.8442 - val_loss: 0.0403 - val_accuracy: 0.9877\n",
      "Epoch 2/10\n",
      "2135/2135 [==============================] - 18s 8ms/step - loss: 0.2244 - accuracy: 0.9304 - val_loss: 0.0297 - val_accuracy: 0.9903\n",
      "Epoch 3/10\n",
      "2135/2135 [==============================] - 18s 8ms/step - loss: 0.1683 - accuracy: 0.9494 - val_loss: 0.0266 - val_accuracy: 0.9916\n",
      "Epoch 4/10\n",
      "2135/2135 [==============================] - 18s 8ms/step - loss: 0.1404 - accuracy: 0.9571 - val_loss: 0.0202 - val_accuracy: 0.9934\n",
      "Epoch 5/10\n",
      "2135/2135 [==============================] - 18s 8ms/step - loss: 0.1256 - accuracy: 0.9621 - val_loss: 0.0269 - val_accuracy: 0.9913\n",
      "Epoch 6/10\n",
      "2135/2135 [==============================] - 18s 8ms/step - loss: 0.1113 - accuracy: 0.9663 - val_loss: 0.0215 - val_accuracy: 0.9920\n",
      "Epoch 7/10\n",
      "2135/2135 [==============================] - 19s 9ms/step - loss: 0.1021 - accuracy: 0.9689 - val_loss: 0.0201 - val_accuracy: 0.9938\n",
      "Epoch 8/10\n",
      "2135/2135 [==============================] - 18s 9ms/step - loss: 0.0962 - accuracy: 0.9719 - val_loss: 0.0189 - val_accuracy: 0.9936\n",
      "Epoch 9/10\n",
      "2135/2135 [==============================] - 19s 9ms/step - loss: 0.0944 - accuracy: 0.9717 - val_loss: 0.0218 - val_accuracy: 0.9932\n",
      "Epoch 10/10\n",
      "2135/2135 [==============================] - 19s 9ms/step - loss: 0.0870 - accuracy: 0.9747 - val_loss: 0.0247 - val_accuracy: 0.9924\n"
     ]
    },
    {
     "data": {
      "text/plain": [
       "<keras.src.callbacks.History at 0x2ccfdf650>"
      ]
     },
     "execution_count": 7,
     "metadata": {},
     "output_type": "execute_result"
    }
   ],
   "source": [
    "# Load the MNIST dataset\n",
    "(x_train, y_train), (x_test, y_test) = keras.datasets.mnist.load_data()\n",
    "\n",
    "print(len(x_train))\n",
    "\n",
    "# Define the path to the folder containing the image folders\n",
    "base_path = \"printed_digits_dataset/assets/\"\n",
    "\n",
    "# Initialize the x and y variables\n",
    "x = []\n",
    "y = []\n",
    "\n",
    "# Loop through the folders labeled 1-10\n",
    "for label in range(0, 10):\n",
    "    folder_path = os.path.join(base_path, str(label))\n",
    "    \n",
    "    # Get the list of image files in the folder\n",
    "    image_files = os.listdir(folder_path)\n",
    "    \n",
    "    # Loop through each image file in the folder\n",
    "    for image_file in image_files:\n",
    "        image_path = os.path.join(folder_path, image_file)\n",
    "        \n",
    "        # Load the image using OpenCV\n",
    "        image = cv2.imread(image_path, cv2.IMREAD_GRAYSCALE)\n",
    "        \n",
    "        # Append the image to the x variable\n",
    "        x.append(image)\n",
    "        \n",
    "        # Append the label to the y variable\n",
    "        y.append(label)\n",
    "\n",
    "# Convert the x variable to a numpy array\n",
    "x_train = np.concatenate((x_train,np.array(x)),axis=0)\n",
    "\n",
    "# Convert the y variable to a numpy array\n",
    "y_train = np.concatenate((y_train,np.array(y)),axis=0)\n",
    "\n",
    "# Step 1: Random Line Augmentation Function\n",
    "def add_random_lines(img, num_lines=3, max_thickness=5, max_length=20):\n",
    "    augmented = img.copy()\n",
    "    h, w = img.shape[:2]\n",
    "    \n",
    "    for _ in range(num_lines):\n",
    "        x1, y1 = np.random.randint(0, w), np.random.randint(0, h)\n",
    "        x2, y2 = x1 + np.random.randint(-max_length, max_length), y1 + np.random.randint(-max_length, max_length)\n",
    "        thickness = np.random.randint(1, max_thickness)\n",
    "        color = np.random.randint(0, 256)\n",
    "        cv2.line(augmented, (x1, y1), (x2, y2), color, thickness)\n",
    "    \n",
    "    return augmented\n",
    "\n",
    "# Step 2: Generate Random Line Images for Label '0'\n",
    "num_random_images = 2000  # Adjust this as required\n",
    "random_line_images = [add_random_lines(np.zeros((28, 28), dtype=np.uint8)) for _ in range(num_random_images)]\n",
    "random_line_labels = [0] * num_random_images\n",
    "\n",
    "# Step 3: Integrate Augmented Data with Your Current Data\n",
    "x_train = np.concatenate((x_train, random_line_images), axis=0)\n",
    "y_train = np.concatenate((y_train, random_line_labels), axis=0)\n",
    "\n",
    "print(len(x_train))\n",
    "\n",
    "# Preprocess the data (e.g., normalize pixel values)\n",
    "x_train = x_train / 255.0\n",
    "x_test = x_test / 255.0\n",
    "\n",
    "# Define the model architecture\n",
    "mnist_model2 = keras.Sequential([\n",
    "    keras.layers.Conv2D(32, kernel_size=(3, 3), activation='relu', input_shape=(28, 28, 1)),\n",
    "    keras.layers.MaxPooling2D(pool_size=(2, 2)),\n",
    "    keras.layers.Conv2D(64, kernel_size=(3, 3), activation='relu'),\n",
    "    keras.layers.MaxPooling2D(pool_size=(2, 2)),\n",
    "    keras.layers.Flatten(),\n",
    "    keras.layers.Dense(128, activation='relu'),\n",
    "    keras.layers.Dropout(0.5),\n",
    "    keras.layers.Dense(10, activation='softmax')\n",
    "])\n",
    "\n",
    "# Compile the model\n",
    "mnist_model2.compile(optimizer='adam', loss='sparse_categorical_crossentropy', metrics=['accuracy'])\n",
    "\n",
    "# Reshape the data to match the input shape of the new model\n",
    "x_train2 = np.expand_dims(x_train, axis=-1)\n",
    "x_test2 = np.expand_dims(x_test, axis=-1)\n",
    "\n",
    "from keras.preprocessing.image import ImageDataGenerator\n",
    "\n",
    "# Augment data a little\n",
    "datagen = ImageDataGenerator(\n",
    "    rotation_range=15,\n",
    "    width_shift_range=0.1,\n",
    "    height_shift_range=0.1,\n",
    "    zoom_range=0.1\n",
    ")\n",
    "datagen.fit(x_train2)\n",
    "\n",
    "# Train the model\n",
    "mnist_model2.fit(datagen.flow(x_train2, y_train, batch_size=32),\n",
    "                epochs=10, validation_data=(x_test2, y_test))"
   ]
  },
  {
   "cell_type": "code",
   "execution_count": 8,
   "metadata": {},
   "outputs": [],
   "source": [
    "mnist_model2.save_weights('digit_recognizer_test.h5')"
   ]
  }
 ],
 "metadata": {
  "kernelspec": {
   "display_name": "Python 3.11.3 ('new_env_name')",
   "language": "python",
   "name": "python3"
  },
  "language_info": {
   "codemirror_mode": {
    "name": "ipython",
    "version": 3
   },
   "file_extension": ".py",
   "mimetype": "text/x-python",
   "name": "python",
   "nbconvert_exporter": "python",
   "pygments_lexer": "ipython3",
   "version": "3.11.3"
  },
  "orig_nbformat": 4,
  "vscode": {
   "interpreter": {
    "hash": "1dd59fcee4a72c760edd57f1a78ac27c8d3088509d5c549a99ee82559af1f187"
   }
  }
 },
 "nbformat": 4,
 "nbformat_minor": 2
}
