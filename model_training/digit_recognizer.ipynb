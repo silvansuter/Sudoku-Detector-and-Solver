{
 "cells": [
  {
   "cell_type": "code",
   "execution_count": 8,
   "metadata": {},
   "outputs": [],
   "source": [
    "from tensorflow import keras\n",
    "import os\n",
    "import numpy as np\n",
    "import cv2"
   ]
  },
  {
   "cell_type": "code",
   "execution_count": 9,
   "metadata": {},
   "outputs": [
    {
     "name": "stdout",
     "output_type": "stream",
     "text": [
      "60000\n",
      "66299\n",
      "Epoch 1/10\n",
      "2072/2072 [==============================] - 15s 7ms/step - loss: 0.4704 - accuracy: 0.8527 - val_loss: 0.0418 - val_accuracy: 0.9856\n",
      "Epoch 2/10\n",
      "2072/2072 [==============================] - 15s 7ms/step - loss: 0.2032 - accuracy: 0.9367 - val_loss: 0.0347 - val_accuracy: 0.9879\n",
      "Epoch 3/10\n",
      "2072/2072 [==============================] - 15s 7ms/step - loss: 0.1619 - accuracy: 0.9504 - val_loss: 0.0262 - val_accuracy: 0.9916\n",
      "Epoch 4/10\n",
      "2072/2072 [==============================] - 15s 7ms/step - loss: 0.1336 - accuracy: 0.9595 - val_loss: 0.0317 - val_accuracy: 0.9905\n",
      "Epoch 5/10\n",
      "2072/2072 [==============================] - 15s 7ms/step - loss: 0.1206 - accuracy: 0.9635 - val_loss: 0.0212 - val_accuracy: 0.9924\n",
      "Epoch 6/10\n",
      "2072/2072 [==============================] - 15s 7ms/step - loss: 0.1094 - accuracy: 0.9675 - val_loss: 0.0209 - val_accuracy: 0.9929\n",
      "Epoch 7/10\n",
      "2072/2072 [==============================] - 15s 7ms/step - loss: 0.1011 - accuracy: 0.9702 - val_loss: 0.0265 - val_accuracy: 0.9926\n",
      "Epoch 8/10\n",
      "2072/2072 [==============================] - 16s 8ms/step - loss: 0.0937 - accuracy: 0.9720 - val_loss: 0.0286 - val_accuracy: 0.9912\n",
      "Epoch 9/10\n",
      "2072/2072 [==============================] - 16s 8ms/step - loss: 0.0922 - accuracy: 0.9734 - val_loss: 0.0203 - val_accuracy: 0.9938\n",
      "Epoch 10/10\n",
      "2072/2072 [==============================] - 16s 8ms/step - loss: 0.0861 - accuracy: 0.9747 - val_loss: 0.0198 - val_accuracy: 0.9939\n"
     ]
    },
    {
     "data": {
      "text/plain": [
       "<keras.src.callbacks.History at 0x2af24a250>"
      ]
     },
     "execution_count": 9,
     "metadata": {},
     "output_type": "execute_result"
    }
   ],
   "source": [
    "# Load the MNIST dataset\n",
    "(x_train, y_train), (x_test, y_test) = keras.datasets.mnist.load_data()\n",
    "\n",
    "print(len(x_train))\n",
    "\n",
    "# Define the path to the folder containing the image folders\n",
    "base_path = \"printed_digits_dataset/assets/\"\n",
    "\n",
    "# Initialize the x and y variables\n",
    "x = []\n",
    "y = []\n",
    "\n",
    "# Loop through the folders labeled 1-10\n",
    "for label in range(0, 10):\n",
    "    folder_path = os.path.join(base_path, str(label))\n",
    "    \n",
    "    # Get the list of image files in the folder\n",
    "    image_files = os.listdir(folder_path)\n",
    "    \n",
    "    # Loop through each image file in the folder\n",
    "    for image_file in image_files:\n",
    "        image_path = os.path.join(folder_path, image_file)\n",
    "        \n",
    "        # Load the image using OpenCV\n",
    "        image = cv2.imread(image_path, cv2.IMREAD_GRAYSCALE)\n",
    "        \n",
    "        # Append the image to the x variable\n",
    "        x.append(image)\n",
    "        \n",
    "        # Append the label to the y variable\n",
    "        y.append(label)\n",
    "\n",
    "# Convert the x variable to a numpy array\n",
    "x_train = np.concatenate((x_train,np.array(x)),axis=0)\n",
    "\n",
    "# Convert the y variable to a numpy array\n",
    "y_train = np.concatenate((y_train,np.array(y)),axis=0)\n",
    "\n",
    "print(len(x_train))\n",
    "\n",
    "# Preprocess the data (e.g., normalize pixel values)\n",
    "x_train = x_train / 255.0\n",
    "x_test = x_test / 255.0\n",
    "\n",
    "# Define the model architecture\n",
    "mnist_model2 = keras.Sequential([\n",
    "    keras.layers.Conv2D(32, kernel_size=(3, 3), activation='relu', input_shape=(28, 28, 1)),\n",
    "    keras.layers.MaxPooling2D(pool_size=(2, 2)),\n",
    "    keras.layers.Conv2D(64, kernel_size=(3, 3), activation='relu'),\n",
    "    keras.layers.MaxPooling2D(pool_size=(2, 2)),\n",
    "    keras.layers.Flatten(),\n",
    "    keras.layers.Dense(128, activation='relu'),\n",
    "    keras.layers.Dropout(0.5),\n",
    "    keras.layers.Dense(10, activation='softmax')\n",
    "])\n",
    "\n",
    "# Compile the model\n",
    "mnist_model2.compile(optimizer='adam', loss='sparse_categorical_crossentropy', metrics=['accuracy'])\n",
    "\n",
    "# Reshape the data to match the input shape of the new model\n",
    "x_train2 = np.expand_dims(x_train, axis=-1)\n",
    "x_test2 = np.expand_dims(x_test, axis=-1)\n",
    "\n",
    "from keras.preprocessing.image import ImageDataGenerator\n",
    "\n",
    "# Augment data a little\n",
    "datagen = ImageDataGenerator(\n",
    "    rotation_range=15,\n",
    "    width_shift_range=0.1,\n",
    "    height_shift_range=0.1,\n",
    "    zoom_range=0.1\n",
    ")\n",
    "datagen.fit(x_train2)\n",
    "\n",
    "# Train the model\n",
    "mnist_model2.fit(datagen.flow(x_train2, y_train, batch_size=32),\n",
    "                epochs=10, validation_data=(x_test2, y_test))"
   ]
  },
  {
   "cell_type": "code",
   "execution_count": 10,
   "metadata": {},
   "outputs": [],
   "source": [
    "mnist_model2.save('digit_recognizer.keras')"
   ]
  },
  {
   "cell_type": "code",
   "execution_count": 11,
   "metadata": {},
   "outputs": [],
   "source": [
    "mnist_model2.save_weights('digit_recognizer.h5')"
   ]
  }
 ],
 "metadata": {
  "kernelspec": {
   "display_name": "Python 3.11.3 ('new_env_name')",
   "language": "python",
   "name": "python3"
  },
  "language_info": {
   "codemirror_mode": {
    "name": "ipython",
    "version": 3
   },
   "file_extension": ".py",
   "mimetype": "text/x-python",
   "name": "python",
   "nbconvert_exporter": "python",
   "pygments_lexer": "ipython3",
   "version": "3.11.3"
  },
  "orig_nbformat": 4,
  "vscode": {
   "interpreter": {
    "hash": "1dd59fcee4a72c760edd57f1a78ac27c8d3088509d5c549a99ee82559af1f187"
   }
  }
 },
 "nbformat": 4,
 "nbformat_minor": 2
}
