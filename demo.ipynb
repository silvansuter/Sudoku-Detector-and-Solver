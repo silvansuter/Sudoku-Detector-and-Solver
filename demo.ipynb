{
 "cells": [
  {
   "cell_type": "code",
   "execution_count": 13,
   "metadata": {},
   "outputs": [
    {
     "data": {
      "text/plain": [
       "<module 'sudoku_solver.representing_sudoku' from '/Users/sisuter/Documents/Projects/Sudoku Detection and Solver Kopie/sudoku_solver/representing_sudoku.py'>"
      ]
     },
     "execution_count": 13,
     "metadata": {},
     "output_type": "execute_result"
    }
   ],
   "source": [
    "import cv2\n",
    "import matplotlib.pyplot as plt\n",
    "\n",
    "import puzzle_recognition.puzzle_recognizer\n",
    "import sudoku_solver.sudoku_solver\n",
    "import sudoku_solver.representing_sudoku\n",
    "from puzzle_recognition.puzzle_recognizer import recognize_sudoku\n",
    "from sudoku_solver.sudoku_solver import ComputeAllSolutions\n",
    "from sudoku_solver.representing_sudoku import printSudoku\n",
    "\n",
    "import importlib\n",
    "importlib.reload(puzzle_recognition.puzzle_recognizer)\n",
    "importlib.reload(sudoku_solver.sudoku_solver)\n",
    "importlib.reload(sudoku_solver.representing_sudoku)"
   ]
  },
  {
   "cell_type": "code",
   "execution_count": 14,
   "metadata": {},
   "outputs": [],
   "source": [
    "# Read an image of a Sudoku\n",
    "image_path = 'images/sudoku1.png'\n",
    "image = cv2.imread(image_path)\n",
    "\n",
    "# Show the image\n",
    "plt.imshow(image)"
   ]
  },
  {
   "cell_type": "code",
   "execution_count": 15,
   "metadata": {},
   "outputs": [
    {
     "name": "stdout",
     "output_type": "stream",
     "text": [
      "[[5. 0. 0. 3. 0. 1. 0. 0. 7.]\n",
      " [0. 1. 0. 4. 0. 6. 0. 9. 0.]\n",
      " [0. 0. 8. 0. 5. 0. 4. 0. 0.]\n",
      " [1. 7. 0. 0. 0. 0. 0. 5. 9.]\n",
      " [0. 0. 6. 0. 0. 0. 7. 0. 0.]\n",
      " [4. 2. 0. 0. 0. 0. 0. 8. 3.]\n",
      " [0. 0. 4. 0. 2. 0. 3. 0. 0.]\n",
      " [0. 8. 0. 7. 0. 5. 0. 2. 0.]\n",
      " [2. 0. 0. 9. 0. 4. 0. 0. 5.]]\n"
     ]
    }
   ],
   "source": [
    "# Recognize the Sudoku from the image and obtain a 9x9 array.\n",
    "sudoku = recognize_sudoku(image, 'puzzle_recognition/model_training/digit_recognizer.h5')\n",
    "\n",
    "# Show the read Sudoku\n",
    "print(sudoku)"
   ]
  },
  {
   "cell_type": "code",
   "execution_count": null,
   "metadata": {},
   "outputs": [],
   "source": [
    "# Sometimes it may happen that a number did not get read correctly (depending on many factors). Here one can correct wrong numbers:\n",
    "#sudoku[3][5] = 7 #uncomment to make changes\n",
    "#sudoku[0][8] = 0 #uncomment to make changes"
   ]
  },
  {
   "cell_type": "code",
   "execution_count": 17,
   "metadata": {},
   "outputs": [],
   "source": [
    "# Compute all valid solutions to the Sudoku\n",
    "max_sols_computing = 10 #There can be a huge amount of solutions if the puzzle has few filled numbers. This variable provides a cap as to how many distinct solutions will be computed.\n",
    "n_sols, sols = ComputeAllSolutions(A, max_sols_computing)"
   ]
  },
  {
   "cell_type": "code",
   "execution_count": 23,
   "metadata": {},
   "outputs": [
    {
     "name": "stdout",
     "output_type": "stream",
     "text": [
      "The Sudoku is a true Sudoku: it has exactly one solution. Namely:\n",
      "╔═══╤═══╤═══╦═══╤═══╤═══╦═══╤═══╤═══╗\n",
      "║ 5 │ 4 │ 9 ║ 3 │ 8 │ 1 ║ 2 │ 6 │ 7 ║\n",
      "╟───┼───┼───╫───┼───┼───╫───┼───┼───╢\n",
      "║ 3 │ 1 │ 2 ║ 4 │ 7 │ 6 ║ 5 │ 9 │ 8 ║\n",
      "╟───┼───┼───╫───┼───┼───╫───┼───┼───╢\n",
      "║ 7 │ 6 │ 8 ║ 2 │ 5 │ 9 ║ 4 │ 3 │ 1 ║\n",
      "╠═══╪═══╪═══╬═══╪═══╪═══╬═══╪═══╪═══╣\n",
      "║ 1 │ 7 │ 3 ║ 8 │ 4 │ 2 ║ 6 │ 5 │ 9 ║\n",
      "╟───┼───┼───╫───┼───┼───╫───┼───┼───╢\n",
      "║ 8 │ 9 │ 6 ║ 5 │ 1 │ 3 ║ 7 │ 4 │ 2 ║\n",
      "╟───┼───┼───╫───┼───┼───╫───┼───┼───╢\n",
      "║ 4 │ 2 │ 5 ║ 6 │ 9 │ 7 ║ 1 │ 8 │ 3 ║\n",
      "╠═══╪═══╪═══╬═══╪═══╪═══╬═══╪═══╪═══╣\n",
      "║ 9 │ 5 │ 4 ║ 1 │ 2 │ 8 ║ 3 │ 7 │ 6 ║\n",
      "╟───┼───┼───╫───┼───┼───╫───┼───┼───╢\n",
      "║ 6 │ 8 │ 1 ║ 7 │ 3 │ 5 ║ 9 │ 2 │ 4 ║\n",
      "╟───┼───┼───╫───┼───┼───╫───┼───┼───╢\n",
      "║ 2 │ 3 │ 7 ║ 9 │ 6 │ 4 ║ 8 │ 1 │ 5 ║\n",
      "╚═══╧═══╧═══╩═══╧═══╧═══╩═══╧═══╧═══╝\n",
      "\n"
     ]
    }
   ],
   "source": [
    "# Print all distinct solutions to the Sudoku.\n",
    "\n",
    "if n_sols == 0:\n",
    "    print(\"The Sudoku is unsolvable. It has no valid solution.\")\n",
    "elif n_sols == 1:\n",
    "    print(\"The Sudoku is a true Sudoku: it has exactly one solution. Namely:\")\n",
    "elif n_sols < max_sols_computing:\n",
    "    print(\"The Sudoku has\", n_sols, \"distinct solutions. They are:\")\n",
    "else:\n",
    "    print(\"The Sudoku has at least\", n_sols, \"distinct solutions. They are:\")\n",
    "    \n",
    "for sol in sols:\n",
    "    printSudoku(sol)"
   ]
  }
 ],
 "metadata": {
  "kernelspec": {
   "display_name": "Python 3.11.3 ('new_env_name')",
   "language": "python",
   "name": "python3"
  },
  "language_info": {
   "codemirror_mode": {
    "name": "ipython",
    "version": 3
   },
   "file_extension": ".py",
   "mimetype": "text/x-python",
   "name": "python",
   "nbconvert_exporter": "python",
   "pygments_lexer": "ipython3",
   "version": "3.11.3"
  },
  "orig_nbformat": 4,
  "vscode": {
   "interpreter": {
    "hash": "1dd59fcee4a72c760edd57f1a78ac27c8d3088509d5c549a99ee82559af1f187"
   }
  }
 },
 "nbformat": 4,
 "nbformat_minor": 2
}
